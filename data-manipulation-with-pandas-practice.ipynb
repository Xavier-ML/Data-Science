{
 "cells": [
  {
   "cell_type": "code",
   "execution_count": 1,
   "id": "bd211ef7",
   "metadata": {
    "_cell_guid": "b1076dfc-b9ad-4769-8c92-a6c4dae69d19",
    "_uuid": "8f2839f25d086af736a60e9eeb907d3b93b6e0e5",
    "execution": {
     "iopub.execute_input": "2023-11-03T17:38:16.560342Z",
     "iopub.status.busy": "2023-11-03T17:38:16.559951Z",
     "iopub.status.idle": "2023-11-03T17:38:16.975897Z",
     "shell.execute_reply": "2023-11-03T17:38:16.974384Z"
    },
    "papermill": {
     "duration": 0.426224,
     "end_time": "2023-11-03T17:38:16.978322",
     "exception": false,
     "start_time": "2023-11-03T17:38:16.552098",
     "status": "completed"
    },
    "tags": []
   },
   "outputs": [
    {
     "name": "stdout",
     "output_type": "stream",
     "text": [
      "/kaggle/input/co2-emissions-by-country/co2_emissions_kt_by_country.csv\n"
     ]
    }
   ],
   "source": [
    "# This Python 3 environment comes with many helpful analytics libraries installed\n",
    "# It is defined by the kaggle/python Docker image: https://github.com/kaggle/docker-python\n",
    "# For example, here's several helpful packages to load\n",
    "\n",
    "import numpy as np # linear algebra\n",
    "import pandas as pd # data processing, CSV file I/O (e.g. pd.read_csv)\n",
    "\n",
    "# Input data files are available in the read-only \"../input/\" directory\n",
    "# For example, running this (by clicking run or pressing Shift+Enter) will list all files under the input directory\n",
    "\n",
    "import os\n",
    "for dirname, _, filenames in os.walk('/kaggle/input'):\n",
    "    for filename in filenames:\n",
    "        print(os.path.join(dirname, filename))\n",
    "\n",
    "# You can write up to 20GB to the current directory (/kaggle/working/) that gets preserved as output when you create a version using \"Save & Run All\" \n",
    "# You can also write temporary files to /kaggle/temp/, but they won't be saved outside of the current session"
   ]
  },
  {
   "cell_type": "markdown",
   "id": "76dcd2da",
   "metadata": {
    "papermill": {
     "duration": 0.005618,
     "end_time": "2023-11-03T17:38:16.991888",
     "exception": false,
     "start_time": "2023-11-03T17:38:16.986270",
     "status": "completed"
    },
    "tags": []
   },
   "source": [
    "# Inspecting a DataFrame\n",
    "When you get a new DataFrame to work with, the first thing you need to do is explore it and see what it contains. There are several useful methods and attributes for this.\n",
    "\n",
    "### .head() \n",
    "returns the first few rows (the “head” of the DataFrame).\n",
    "### .info()\n",
    "shows information on each of the columns, such as the data type and number of missing values.\n",
    "### .shape\n",
    "returns the number of rows and columns of the DataFrame.\n",
    "### .describe()\n",
    "calculates a few summary statistics for each column.\n",
    "\n",
    "* data_co2_emissions is a Dataframe..\n",
    "\n",
    "Concerning Dataframes In the last few years, the effect of greenhouse gas emissions, especially carbon dioxide (CO2), on Earth's climate has grown in importance. Numerous human activities, such as the burning of fossil fuels, deforestation, and industrial operations, result in CO2 emissions. In order to create effective climate policies and lessen the effects of climate change, it is essential to know how much CO2 each nation emits. The CO2 emissions dataset offers a thorough summary of the quantity of CO2 released by every nation. Data on CO2 emissions by nation from 1960 to the present is included in the dataset. Compiling data from multiple sources, such as the United Nations Framework Convention on Climate Change (UNFCCC) and the internationally recognized CO2 emissions dataset, offers a thorough summary of the quantity of CO2 released by every nation. Data on CO2 emissions by nation from 1960 to the present is included in the dataset. It is compiled from a number of sources, such as the International Energy Agency (IEA) and the United Nations Framework Convention on Climate Change (UNFCCC), and it covers every country on the globe. Researchers, decision-makers, and the general public can all use the dataset to learn more about how different nations contribute to global CO2 emissions in relation to one another. It can also be used to track changes in emissions over time and evaluate how well climate measures are working. All things considered, the CO2 emissions dataset is a valuable tool for comprehending the global climate crisis and formulating plans to lessen the effects of CO2 emissions on the environment.\n",
    "\n",
    "### Sources\n",
    "* Kaggle - CO2 Emission by Vehicles: https://www.kaggle.com/datasets/debajyotipodder/co2-emission-by-vehicles\n",
    "* Our World in Data - CO₂ emissions dataset: Our sources and methods: https://ourworldindata.org/co2-dataset-sources\n",
    "* World Bank - CO2 emissions (metric tons per capita): https://data.worldbank.org/indicator/EN.ATM.CO2E.PC\n",
    "* Nature - A global dataset of CO2 emissions and ancillary data for 343 cities: https://www.nature.com/articles/sdata2018280\n",
    "* Our World in Data - CO2 emissions: https://ourworldindata.org/co2-emissions\n",
    "* CHE-Project - Data portal: https://che-project.eu/data-portal\n"
   ]
  },
  {
   "cell_type": "code",
   "execution_count": 2,
   "id": "0622fc13",
   "metadata": {
    "execution": {
     "iopub.execute_input": "2023-11-03T17:38:17.005649Z",
     "iopub.status.busy": "2023-11-03T17:38:17.005148Z",
     "iopub.status.idle": "2023-11-03T17:38:17.009395Z",
     "shell.execute_reply": "2023-11-03T17:38:17.008342Z"
    },
    "papermill": {
     "duration": 0.013837,
     "end_time": "2023-11-03T17:38:17.011742",
     "exception": false,
     "start_time": "2023-11-03T17:38:16.997905",
     "status": "completed"
    },
    "tags": []
   },
   "outputs": [],
   "source": [
    "# import library pandas\n",
    "import pandas as pd"
   ]
  },
  {
   "cell_type": "code",
   "execution_count": 3,
   "id": "1f258ba7",
   "metadata": {
    "execution": {
     "iopub.execute_input": "2023-11-03T17:38:17.024759Z",
     "iopub.status.busy": "2023-11-03T17:38:17.024404Z",
     "iopub.status.idle": "2023-11-03T17:38:17.064744Z",
     "shell.execute_reply": "2023-11-03T17:38:17.063729Z"
    },
    "papermill": {
     "duration": 0.049968,
     "end_time": "2023-11-03T17:38:17.067540",
     "exception": false,
     "start_time": "2023-11-03T17:38:17.017572",
     "status": "completed"
    },
    "tags": []
   },
   "outputs": [],
   "source": [
    "# import data csv\n",
    "data_co2_emissions = pd.read_csv(\"/kaggle/input/co2-emissions-by-country/co2_emissions_kt_by_country.csv\")"
   ]
  },
  {
   "cell_type": "code",
   "execution_count": 4,
   "id": "a7884bc1",
   "metadata": {
    "execution": {
     "iopub.execute_input": "2023-11-03T17:38:17.081770Z",
     "iopub.status.busy": "2023-11-03T17:38:17.080851Z",
     "iopub.status.idle": "2023-11-03T17:38:17.097137Z",
     "shell.execute_reply": "2023-11-03T17:38:17.096030Z"
    },
    "papermill": {
     "duration": 0.02595,
     "end_time": "2023-11-03T17:38:17.099528",
     "exception": false,
     "start_time": "2023-11-03T17:38:17.073578",
     "status": "completed"
    },
    "tags": []
   },
   "outputs": [
    {
     "name": "stdout",
     "output_type": "stream",
     "text": [
      "  country_code country_name  year      value\n",
      "0          ABW        Aruba  1960  11092.675\n",
      "1          ABW        Aruba  1961  11576.719\n",
      "2          ABW        Aruba  1962  12713.489\n",
      "3          ABW        Aruba  1963  12178.107\n",
      "4          ABW        Aruba  1964  11840.743\n"
     ]
    }
   ],
   "source": [
    "# Print the head of the homelessness data\n",
    "print(data_co2_emissions.head())\n"
   ]
  },
  {
   "cell_type": "code",
   "execution_count": 5,
   "id": "6aaa2ebd",
   "metadata": {
    "execution": {
     "iopub.execute_input": "2023-11-03T17:38:17.113423Z",
     "iopub.status.busy": "2023-11-03T17:38:17.113085Z",
     "iopub.status.idle": "2023-11-03T17:38:17.145508Z",
     "shell.execute_reply": "2023-11-03T17:38:17.143902Z"
    },
    "papermill": {
     "duration": 0.042224,
     "end_time": "2023-11-03T17:38:17.148074",
     "exception": false,
     "start_time": "2023-11-03T17:38:17.105850",
     "status": "completed"
    },
    "tags": []
   },
   "outputs": [
    {
     "name": "stdout",
     "output_type": "stream",
     "text": [
      "<class 'pandas.core.frame.DataFrame'>\n",
      "RangeIndex: 13953 entries, 0 to 13952\n",
      "Data columns (total 4 columns):\n",
      " #   Column        Non-Null Count  Dtype  \n",
      "---  ------        --------------  -----  \n",
      " 0   country_code  13953 non-null  object \n",
      " 1   country_name  13953 non-null  object \n",
      " 2   year          13953 non-null  int64  \n",
      " 3   value         13953 non-null  float64\n",
      "dtypes: float64(1), int64(1), object(2)\n",
      "memory usage: 436.2+ KB\n",
      "None\n"
     ]
    }
   ],
   "source": [
    "# Print information about homelessness\n",
    "print(data_co2_emissions.info())"
   ]
  },
  {
   "cell_type": "code",
   "execution_count": 6,
   "id": "e8fc35ae",
   "metadata": {
    "execution": {
     "iopub.execute_input": "2023-11-03T17:38:17.161852Z",
     "iopub.status.busy": "2023-11-03T17:38:17.161477Z",
     "iopub.status.idle": "2023-11-03T17:38:17.166991Z",
     "shell.execute_reply": "2023-11-03T17:38:17.165563Z"
    },
    "papermill": {
     "duration": 0.015134,
     "end_time": "2023-11-03T17:38:17.169302",
     "exception": false,
     "start_time": "2023-11-03T17:38:17.154168",
     "status": "completed"
    },
    "tags": []
   },
   "outputs": [
    {
     "name": "stdout",
     "output_type": "stream",
     "text": [
      "(13953, 4)\n"
     ]
    }
   ],
   "source": [
    "# Print the shape of homelessness\n",
    "print(data_co2_emissions.shape)"
   ]
  },
  {
   "cell_type": "code",
   "execution_count": 7,
   "id": "d54de215",
   "metadata": {
    "execution": {
     "iopub.execute_input": "2023-11-03T17:38:17.183362Z",
     "iopub.status.busy": "2023-11-03T17:38:17.182561Z",
     "iopub.status.idle": "2023-11-03T17:38:17.201135Z",
     "shell.execute_reply": "2023-11-03T17:38:17.199679Z"
    },
    "papermill": {
     "duration": 0.028332,
     "end_time": "2023-11-03T17:38:17.203669",
     "exception": false,
     "start_time": "2023-11-03T17:38:17.175337",
     "status": "completed"
    },
    "tags": []
   },
   "outputs": [
    {
     "name": "stdout",
     "output_type": "stream",
     "text": [
      "               year         value\n",
      "count  13953.000000  1.395300e+04\n",
      "mean    1990.732316  8.254983e+05\n",
      "std       17.187585  2.788923e+06\n",
      "min     1960.000000 -8.067400e+01\n",
      "25%     1976.000000  1.100000e+03\n",
      "50%     1992.000000  1.390000e+04\n",
      "75%     2006.000000  1.642779e+05\n",
      "max     2019.000000  3.434401e+07\n"
     ]
    }
   ],
   "source": [
    "# Print a description of homelessness\n",
    "print(data_co2_emissions.describe())"
   ]
  },
  {
   "cell_type": "markdown",
   "id": "af37be8b",
   "metadata": {
    "papermill": {
     "duration": 0.006044,
     "end_time": "2023-11-03T17:38:17.216144",
     "exception": false,
     "start_time": "2023-11-03T17:38:17.210100",
     "status": "completed"
    },
    "tags": []
   },
   "source": [
    "### Parts of a DataFrame\n",
    "To better understand DataFrame objects, it's useful to know that they consist of three components, stored as attributes:\n",
    "\n",
    "* .values: A two-dimensional NumPy array of values.\n",
    "* .columns: An index of columns: the column names.\n",
    "* .index: An index for the rows: either row numbers or row names.\n",
    "\n",
    "You can usually think of indexes as a list of strings or numbers, though the pandas Index data type allows for more sophisticated options. (These will be covered later in the course.)"
   ]
  },
  {
   "cell_type": "code",
   "execution_count": 8,
   "id": "c449e3a5",
   "metadata": {
    "execution": {
     "iopub.execute_input": "2023-11-03T17:38:17.230549Z",
     "iopub.status.busy": "2023-11-03T17:38:17.230173Z",
     "iopub.status.idle": "2023-11-03T17:38:17.239538Z",
     "shell.execute_reply": "2023-11-03T17:38:17.238050Z"
    },
    "papermill": {
     "duration": 0.019436,
     "end_time": "2023-11-03T17:38:17.241708",
     "exception": false,
     "start_time": "2023-11-03T17:38:17.222272",
     "status": "completed"
    },
    "tags": []
   },
   "outputs": [
    {
     "name": "stdout",
     "output_type": "stream",
     "text": [
      "[['ABW' 'Aruba' 1960 11092.675]\n",
      " ['ABW' 'Aruba' 1961 11576.719]\n",
      " ['ABW' 'Aruba' 1962 12713.489]\n",
      " ...\n",
      " ['ZWE' 'Zimbabwe' 2017 10340.0001525879]\n",
      " ['ZWE' 'Zimbabwe' 2018 12380.0001144409]\n",
      " ['ZWE' 'Zimbabwe' 2019 11760.0002288818]]\n"
     ]
    }
   ],
   "source": [
    "# Import pandas using the alias pd\n",
    "import pandas as pd\n",
    "# Print the values of homelessness\n",
    "print(data_co2_emissions.values)"
   ]
  },
  {
   "cell_type": "code",
   "execution_count": 9,
   "id": "4afe6369",
   "metadata": {
    "execution": {
     "iopub.execute_input": "2023-11-03T17:38:17.255757Z",
     "iopub.status.busy": "2023-11-03T17:38:17.255379Z",
     "iopub.status.idle": "2023-11-03T17:38:17.260661Z",
     "shell.execute_reply": "2023-11-03T17:38:17.259653Z"
    },
    "papermill": {
     "duration": 0.015164,
     "end_time": "2023-11-03T17:38:17.263157",
     "exception": false,
     "start_time": "2023-11-03T17:38:17.247993",
     "status": "completed"
    },
    "tags": []
   },
   "outputs": [
    {
     "name": "stdout",
     "output_type": "stream",
     "text": [
      "Index(['country_code', 'country_name', 'year', 'value'], dtype='object')\n"
     ]
    }
   ],
   "source": [
    "# Print the column index of homelessness\n",
    "print(data_co2_emissions.columns)"
   ]
  },
  {
   "cell_type": "code",
   "execution_count": 10,
   "id": "c71d63a5",
   "metadata": {
    "execution": {
     "iopub.execute_input": "2023-11-03T17:38:17.277069Z",
     "iopub.status.busy": "2023-11-03T17:38:17.276736Z",
     "iopub.status.idle": "2023-11-03T17:38:17.281963Z",
     "shell.execute_reply": "2023-11-03T17:38:17.280945Z"
    },
    "papermill": {
     "duration": 0.015143,
     "end_time": "2023-11-03T17:38:17.284501",
     "exception": false,
     "start_time": "2023-11-03T17:38:17.269358",
     "status": "completed"
    },
    "tags": []
   },
   "outputs": [
    {
     "name": "stdout",
     "output_type": "stream",
     "text": [
      "RangeIndex(start=0, stop=13953, step=1)\n"
     ]
    }
   ],
   "source": [
    "# Print the row index of homelessness\n",
    "print(data_co2_emissions.index)"
   ]
  },
  {
   "cell_type": "markdown",
   "id": "f5b420ae",
   "metadata": {
    "papermill": {
     "duration": 0.006217,
     "end_time": "2023-11-03T17:38:17.297071",
     "exception": false,
     "start_time": "2023-11-03T17:38:17.290854",
     "status": "completed"
    },
    "tags": []
   },
   "source": [
    "### Sorting rows\n",
    "\n",
    "Finding interesting bits of data in a DataFrame is often easier if you change the order of the rows. You can sort the rows by passing a column name to .sort_values().\n",
    "\n",
    "In cases where rows have the same value (this is common if you sort on a categorical variable), you may wish to break the ties by sorting on another column. You can sort on multiple columns in this way by passing a list of column names.\n",
    "\n",
    "Sort on …\tSyntax\n",
    "one column\tdf.sort_values(\"breed\")\n",
    "multiple columns\tdf.sort_values([\"breed\", \"weight_kg\"])\n",
    "By combining .sort_values() with .head(), you can answer questions in the form, \"What are the top cases where…?\".\n",
    "\n",
    "data_co2_emissions is available and pandas is loaded as pd."
   ]
  },
  {
   "cell_type": "code",
   "execution_count": 11,
   "id": "99600bcc",
   "metadata": {
    "execution": {
     "iopub.execute_input": "2023-11-03T17:38:17.311050Z",
     "iopub.status.busy": "2023-11-03T17:38:17.310664Z",
     "iopub.status.idle": "2023-11-03T17:38:17.326951Z",
     "shell.execute_reply": "2023-11-03T17:38:17.325385Z"
    },
    "papermill": {
     "duration": 0.026217,
     "end_time": "2023-11-03T17:38:17.329512",
     "exception": false,
     "start_time": "2023-11-03T17:38:17.303295",
     "status": "completed"
    },
    "tags": []
   },
   "outputs": [
    {
     "name": "stdout",
     "output_type": "stream",
     "text": [
      "      country_code           country_name  year         value\n",
      "11002          SEN                Senegal  1968 -8.067400e+01\n",
      "4230           FSM  Micronesia, Fed. Sts.  1991  0.000000e+00\n",
      "12470          TLS            Timor-Leste  2001  0.000000e+00\n",
      "12469          TLS            Timor-Leste  2000  0.000000e+00\n",
      "12468          TLS            Timor-Leste  1999  0.000000e+00\n",
      "...            ...                    ...   ...           ...\n",
      "13645          WLD                  World  2013  3.311938e+07\n",
      "13646          WLD                  World  2014  3.319873e+07\n",
      "13649          WLD                  World  2017  3.351454e+07\n",
      "13650          WLD                  World  2018  3.428935e+07\n",
      "13651          WLD                  World  2019  3.434401e+07\n",
      "\n",
      "[13953 rows x 4 columns]\n"
     ]
    }
   ],
   "source": [
    "# Sort data_co2_emissions by the number of value, from smallest to largest, and save this as homelessness_ind.\n",
    "# Print the head of the sorted DataFrame.\n",
    "data_co2_emissions_ind = data_co2_emissions.sort_values(\"value\")\n",
    "print(data_co2_emissions_ind)"
   ]
  },
  {
   "cell_type": "code",
   "execution_count": 12,
   "id": "7dfda916",
   "metadata": {
    "execution": {
     "iopub.execute_input": "2023-11-03T17:38:17.345376Z",
     "iopub.status.busy": "2023-11-03T17:38:17.344284Z",
     "iopub.status.idle": "2023-11-03T17:38:17.348817Z",
     "shell.execute_reply": "2023-11-03T17:38:17.347916Z"
    },
    "papermill": {
     "duration": 0.014543,
     "end_time": "2023-11-03T17:38:17.350924",
     "exception": false,
     "start_time": "2023-11-03T17:38:17.336381",
     "status": "completed"
    },
    "tags": []
   },
   "outputs": [],
   "source": [
    "# Sort homelessness by the number of homeless family_members in descending order, and save this as homelessness_fam.\n",
    "# Print the head of the sorted DataFrame."
   ]
  },
  {
   "cell_type": "code",
   "execution_count": 13,
   "id": "222d472e",
   "metadata": {
    "execution": {
     "iopub.execute_input": "2023-11-03T17:38:17.365702Z",
     "iopub.status.busy": "2023-11-03T17:38:17.365332Z",
     "iopub.status.idle": "2023-11-03T17:38:17.369766Z",
     "shell.execute_reply": "2023-11-03T17:38:17.368725Z"
    },
    "papermill": {
     "duration": 0.014227,
     "end_time": "2023-11-03T17:38:17.371997",
     "exception": false,
     "start_time": "2023-11-03T17:38:17.357770",
     "status": "completed"
    },
    "tags": []
   },
   "outputs": [],
   "source": [
    "#Sort homelessness first by region (ascending), and then by number of family members (descending). Save this as homelessness_reg_fam.\n",
    "#Print the head of the sorted DataFrame."
   ]
  },
  {
   "cell_type": "code",
   "execution_count": null,
   "id": "a4979f58",
   "metadata": {
    "papermill": {
     "duration": 0.006526,
     "end_time": "2023-11-03T17:38:17.385240",
     "exception": false,
     "start_time": "2023-11-03T17:38:17.378714",
     "status": "completed"
    },
    "tags": []
   },
   "outputs": [],
   "source": []
  }
 ],
 "metadata": {
  "kernelspec": {
   "display_name": "Python 3",
   "language": "python",
   "name": "python3"
  },
  "language_info": {
   "codemirror_mode": {
    "name": "ipython",
    "version": 3
   },
   "file_extension": ".py",
   "mimetype": "text/x-python",
   "name": "python",
   "nbconvert_exporter": "python",
   "pygments_lexer": "ipython3",
   "version": "3.10.12"
  },
  "papermill": {
   "default_parameters": {},
   "duration": 4.920954,
   "end_time": "2023-11-03T17:38:17.812960",
   "environment_variables": {},
   "exception": null,
   "input_path": "__notebook__.ipynb",
   "output_path": "__notebook__.ipynb",
   "parameters": {},
   "start_time": "2023-11-03T17:38:12.892006",
   "version": "2.4.0"
  }
 },
 "nbformat": 4,
 "nbformat_minor": 5
}
