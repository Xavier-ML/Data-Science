{
 "cells": [
  {
   "cell_type": "markdown",
   "id": "78b15447",
   "metadata": {
    "papermill": {
     "duration": 0.003754,
     "end_time": "2023-10-31T05:00:37.268023",
     "exception": false,
     "start_time": "2023-10-31T05:00:37.264269",
     "status": "completed"
    },
    "tags": []
   },
   "source": [
    "**This notebook is an exercise in the [Introduction to Machine Learning](https://www.kaggle.com/learn/intro-to-machine-learning) course.  You can reference the tutorial at [this link](https://www.kaggle.com/dansbecker/model-validation).**\n",
    "\n",
    "---\n"
   ]
  },
  {
   "cell_type": "markdown",
   "id": "9ae2c7ed",
   "metadata": {
    "papermill": {
     "duration": 0.002886,
     "end_time": "2023-10-31T05:00:37.275731",
     "exception": false,
     "start_time": "2023-10-31T05:00:37.272845",
     "status": "completed"
    },
    "tags": []
   },
   "source": [
    "## Recap\n",
    "You've built a model. In this exercise you will test how good your model is.\n",
    "\n",
    "Run the cell below to set up your coding environment where the previous exercise left off."
   ]
  },
  {
   "cell_type": "code",
   "execution_count": 1,
   "id": "1821e1ba",
   "metadata": {
    "execution": {
     "iopub.execute_input": "2023-10-31T05:00:37.283598Z",
     "iopub.status.busy": "2023-10-31T05:00:37.283106Z",
     "iopub.status.idle": "2023-10-31T05:00:39.032274Z",
     "shell.execute_reply": "2023-10-31T05:00:39.031421Z"
    },
    "papermill": {
     "duration": 1.755162,
     "end_time": "2023-10-31T05:00:39.033916",
     "exception": false,
     "start_time": "2023-10-31T05:00:37.278754",
     "status": "completed"
    },
    "tags": []
   },
   "outputs": [
    {
     "name": "stdout",
     "output_type": "stream",
     "text": [
      "First in-sample predictions: [208500. 181500. 223500. 140000. 250000.]\n",
      "Actual target values for those homes: [208500, 181500, 223500, 140000, 250000]\n",
      "Setup Complete\n"
     ]
    }
   ],
   "source": [
    "# Code you have previously used to load data\n",
    "import pandas as pd\n",
    "from sklearn.tree import DecisionTreeRegressor\n",
    "\n",
    "# Path of the file to read\n",
    "iowa_file_path = '../input/home-data-for-ml-course/train.csv'\n",
    "\n",
    "home_data = pd.read_csv(iowa_file_path)\n",
    "y = home_data.SalePrice\n",
    "feature_columns = ['LotArea', 'YearBuilt', '1stFlrSF', '2ndFlrSF', 'FullBath', 'BedroomAbvGr', 'TotRmsAbvGrd']\n",
    "X = home_data[feature_columns]\n",
    "\n",
    "# Specify Model\n",
    "iowa_model = DecisionTreeRegressor()\n",
    "# Fit Model\n",
    "iowa_model.fit(X, y)\n",
    "\n",
    "print(\"First in-sample predictions:\", iowa_model.predict(X.head()))\n",
    "print(\"Actual target values for those homes:\", y.head().tolist())\n",
    "\n",
    "# Set up code checking\n",
    "from learntools.core import binder\n",
    "binder.bind(globals())\n",
    "from learntools.machine_learning.ex4 import *\n",
    "print(\"Setup Complete\")"
   ]
  },
  {
   "cell_type": "markdown",
   "id": "240e47f2",
   "metadata": {
    "papermill": {
     "duration": 0.003041,
     "end_time": "2023-10-31T05:00:39.040408",
     "exception": false,
     "start_time": "2023-10-31T05:00:39.037367",
     "status": "completed"
    },
    "tags": []
   },
   "source": [
    "# Exercises\n",
    "\n",
    "## Step 1: Split Your Data\n",
    "Use the `train_test_split` function to split up your data.\n",
    "\n",
    "Give it the argument `random_state=1` so the `check` functions know what to expect when verifying your code.\n",
    "\n",
    "Recall, your features are loaded in the DataFrame **X** and your target is loaded in **y**.\n"
   ]
  },
  {
   "cell_type": "code",
   "execution_count": 2,
   "id": "074118b3",
   "metadata": {
    "execution": {
     "iopub.execute_input": "2023-10-31T05:00:39.048091Z",
     "iopub.status.busy": "2023-10-31T05:00:39.047642Z",
     "iopub.status.idle": "2023-10-31T05:00:39.054005Z",
     "shell.execute_reply": "2023-10-31T05:00:39.053460Z"
    },
    "papermill": {
     "duration": 0.011809,
     "end_time": "2023-10-31T05:00:39.055378",
     "exception": false,
     "start_time": "2023-10-31T05:00:39.043569",
     "status": "completed"
    },
    "tags": []
   },
   "outputs": [
    {
     "data": {
      "application/javascript": [
       "parent.postMessage({\"jupyterEvent\": \"custom.exercise_interaction\", \"data\": {\"outcomeType\": 2, \"failureMessage\": \"You still need to define the following variables: `train_X`, `val_y`, `train_y`, `val_X`\", \"interactionType\": 1, \"questionType\": 2, \"questionId\": \"1_SplitData\", \"learnToolsVersion\": \"0.3.4\", \"valueTowardsCompletion\": 0.0, \"exceptionClass\": \"\", \"trace\": \"\"}}, \"*\")"
      ],
      "text/plain": [
       "<IPython.core.display.Javascript object>"
      ]
     },
     "metadata": {},
     "output_type": "display_data"
    },
    {
     "data": {
      "text/markdown": [
       "<span style=\"color:#cc3333\">Incorrect:</span> You still need to define the following variables: `train_X`, `val_y`, `train_y`, `val_X`"
      ],
      "text/plain": [
       "Incorrect: You still need to define the following variables: `train_X`, `val_y`, `train_y`, `val_X`"
      ]
     },
     "metadata": {},
     "output_type": "display_data"
    }
   ],
   "source": [
    "# Import the train_test_split function and uncomment\n",
    "# from _ import _\n",
    "\n",
    "# fill in and uncomment\n",
    "# train_X, val_X, train_y, val_y = ____\n",
    "\n",
    "# Check your answer\n",
    "step_1.check()"
   ]
  },
  {
   "cell_type": "code",
   "execution_count": 3,
   "id": "edebe7e5",
   "metadata": {
    "execution": {
     "iopub.execute_input": "2023-10-31T05:00:39.064179Z",
     "iopub.status.busy": "2023-10-31T05:00:39.063789Z",
     "iopub.status.idle": "2023-10-31T05:00:39.066462Z",
     "shell.execute_reply": "2023-10-31T05:00:39.065938Z"
    },
    "papermill": {
     "duration": 0.008474,
     "end_time": "2023-10-31T05:00:39.067862",
     "exception": false,
     "start_time": "2023-10-31T05:00:39.059388",
     "status": "completed"
    },
    "tags": []
   },
   "outputs": [],
   "source": [
    "# The lines below will show you a hint or the solution.\n",
    "# step_1.hint() \n",
    "# step_1.solution()\n"
   ]
  },
  {
   "cell_type": "markdown",
   "id": "a62fc1b3",
   "metadata": {
    "papermill": {
     "duration": 0.003334,
     "end_time": "2023-10-31T05:00:39.074814",
     "exception": false,
     "start_time": "2023-10-31T05:00:39.071480",
     "status": "completed"
    },
    "tags": []
   },
   "source": [
    "## Step 2: Specify and Fit the Model\n",
    "\n",
    "Create a `DecisionTreeRegressor` model and fit it to the relevant data.\n",
    "Set `random_state` to 1 again when creating the model."
   ]
  },
  {
   "cell_type": "code",
   "execution_count": 4,
   "id": "d19561be",
   "metadata": {
    "execution": {
     "iopub.execute_input": "2023-10-31T05:00:39.082910Z",
     "iopub.status.busy": "2023-10-31T05:00:39.082514Z",
     "iopub.status.idle": "2023-10-31T05:00:39.088794Z",
     "shell.execute_reply": "2023-10-31T05:00:39.087963Z"
    },
    "papermill": {
     "duration": 0.012003,
     "end_time": "2023-10-31T05:00:39.090361",
     "exception": false,
     "start_time": "2023-10-31T05:00:39.078358",
     "status": "completed"
    },
    "tags": []
   },
   "outputs": [
    {
     "data": {
      "application/javascript": [
       "parent.postMessage({\"jupyterEvent\": \"custom.exercise_interaction\", \"data\": {\"outcomeType\": 2, \"failureMessage\": \"You still need to define the following variables: `train_X`, `train_y`, `val_X`\", \"interactionType\": 1, \"questionType\": 2, \"questionId\": \"2_FitModelWithTrain\", \"learnToolsVersion\": \"0.3.4\", \"valueTowardsCompletion\": 0.0, \"exceptionClass\": \"\", \"trace\": \"\"}}, \"*\")"
      ],
      "text/plain": [
       "<IPython.core.display.Javascript object>"
      ]
     },
     "metadata": {},
     "output_type": "display_data"
    },
    {
     "data": {
      "text/markdown": [
       "<span style=\"color:#cc3333\">Incorrect:</span> You still need to define the following variables: `train_X`, `train_y`, `val_X`"
      ],
      "text/plain": [
       "Incorrect: You still need to define the following variables: `train_X`, `train_y`, `val_X`"
      ]
     },
     "metadata": {},
     "output_type": "display_data"
    }
   ],
   "source": [
    "# You imported DecisionTreeRegressor in your last exercise\n",
    "# and that code has been copied to the setup code above. So, no need to\n",
    "# import it again\n",
    "\n",
    "# Specify the model\n",
    "iowa_model = ____\n",
    "\n",
    "# Fit iowa_model with the training data.\n",
    "____\n",
    "\n",
    "# Check your answer\n",
    "step_2.check()"
   ]
  },
  {
   "cell_type": "code",
   "execution_count": 5,
   "id": "b6051d69",
   "metadata": {
    "execution": {
     "iopub.execute_input": "2023-10-31T05:00:39.098779Z",
     "iopub.status.busy": "2023-10-31T05:00:39.098527Z",
     "iopub.status.idle": "2023-10-31T05:00:39.101470Z",
     "shell.execute_reply": "2023-10-31T05:00:39.100915Z"
    },
    "papermill": {
     "duration": 0.008786,
     "end_time": "2023-10-31T05:00:39.102901",
     "exception": false,
     "start_time": "2023-10-31T05:00:39.094115",
     "status": "completed"
    },
    "tags": []
   },
   "outputs": [],
   "source": [
    "# step_2.hint()\n",
    "# step_2.solution()"
   ]
  },
  {
   "cell_type": "markdown",
   "id": "8358d5e6",
   "metadata": {
    "papermill": {
     "duration": 0.003543,
     "end_time": "2023-10-31T05:00:39.110287",
     "exception": false,
     "start_time": "2023-10-31T05:00:39.106744",
     "status": "completed"
    },
    "tags": []
   },
   "source": [
    "## Step 3: Make Predictions with Validation data\n"
   ]
  },
  {
   "cell_type": "code",
   "execution_count": 6,
   "id": "2156383b",
   "metadata": {
    "execution": {
     "iopub.execute_input": "2023-10-31T05:00:39.118902Z",
     "iopub.status.busy": "2023-10-31T05:00:39.118300Z",
     "iopub.status.idle": "2023-10-31T05:00:39.124659Z",
     "shell.execute_reply": "2023-10-31T05:00:39.123901Z"
    },
    "papermill": {
     "duration": 0.012121,
     "end_time": "2023-10-31T05:00:39.126123",
     "exception": false,
     "start_time": "2023-10-31T05:00:39.114002",
     "status": "completed"
    },
    "tags": []
   },
   "outputs": [
    {
     "data": {
      "application/javascript": [
       "parent.postMessage({\"jupyterEvent\": \"custom.exercise_interaction\", \"data\": {\"outcomeType\": 2, \"failureMessage\": \"You still need to define the following variables: `val_X`\", \"interactionType\": 1, \"questionType\": 2, \"questionId\": \"3_ValPreds\", \"learnToolsVersion\": \"0.3.4\", \"valueTowardsCompletion\": 0.0, \"exceptionClass\": \"\", \"trace\": \"\"}}, \"*\")"
      ],
      "text/plain": [
       "<IPython.core.display.Javascript object>"
      ]
     },
     "metadata": {},
     "output_type": "display_data"
    },
    {
     "data": {
      "text/markdown": [
       "<span style=\"color:#cc3333\">Incorrect:</span> You still need to define the following variables: `val_X`"
      ],
      "text/plain": [
       "Incorrect: You still need to define the following variables: `val_X`"
      ]
     },
     "metadata": {},
     "output_type": "display_data"
    }
   ],
   "source": [
    "# Predict with all validation observations\n",
    "val_predictions = ____\n",
    "\n",
    "# Check your answer\n",
    "step_3.check()"
   ]
  },
  {
   "cell_type": "code",
   "execution_count": 7,
   "id": "e268ca29",
   "metadata": {
    "execution": {
     "iopub.execute_input": "2023-10-31T05:00:39.135243Z",
     "iopub.status.busy": "2023-10-31T05:00:39.134968Z",
     "iopub.status.idle": "2023-10-31T05:00:39.138418Z",
     "shell.execute_reply": "2023-10-31T05:00:39.137638Z"
    },
    "papermill": {
     "duration": 0.009601,
     "end_time": "2023-10-31T05:00:39.139850",
     "exception": false,
     "start_time": "2023-10-31T05:00:39.130249",
     "status": "completed"
    },
    "tags": []
   },
   "outputs": [],
   "source": [
    "# step_3.hint()\n",
    "# step_3.solution()"
   ]
  },
  {
   "cell_type": "markdown",
   "id": "3adc8634",
   "metadata": {
    "papermill": {
     "duration": 0.004032,
     "end_time": "2023-10-31T05:00:39.147934",
     "exception": false,
     "start_time": "2023-10-31T05:00:39.143902",
     "status": "completed"
    },
    "tags": []
   },
   "source": [
    "Inspect your predictions and actual values from validation data."
   ]
  },
  {
   "cell_type": "code",
   "execution_count": 8,
   "id": "36882681",
   "metadata": {
    "execution": {
     "iopub.execute_input": "2023-10-31T05:00:39.157616Z",
     "iopub.status.busy": "2023-10-31T05:00:39.157157Z",
     "iopub.status.idle": "2023-10-31T05:00:39.161414Z",
     "shell.execute_reply": "2023-10-31T05:00:39.160646Z"
    },
    "papermill": {
     "duration": 0.01086,
     "end_time": "2023-10-31T05:00:39.163041",
     "exception": false,
     "start_time": "2023-10-31T05:00:39.152181",
     "status": "completed"
    },
    "tags": []
   },
   "outputs": [
    {
     "name": "stdout",
     "output_type": "stream",
     "text": [
      "<learntools.core.constants.PlaceholderValue object at 0x793ce0e11210>\n",
      "<learntools.core.constants.PlaceholderValue object at 0x793ce0e11210>\n"
     ]
    }
   ],
   "source": [
    "# print the top few validation predictions\n",
    "print(____)\n",
    "# print the top few actual prices from validation data\n",
    "print(____)"
   ]
  },
  {
   "cell_type": "markdown",
   "id": "8711a5cd",
   "metadata": {
    "papermill": {
     "duration": 0.003897,
     "end_time": "2023-10-31T05:00:39.171056",
     "exception": false,
     "start_time": "2023-10-31T05:00:39.167159",
     "status": "completed"
    },
    "tags": []
   },
   "source": [
    "What do you notice that is different from what you saw with in-sample predictions (which are printed after the top code cell in this page).\n",
    "\n",
    "Do you remember why validation predictions differ from in-sample (or training) predictions? This is an important idea from the last lesson.\n",
    "\n",
    "## Step 4: Calculate the Mean Absolute Error in Validation Data\n"
   ]
  },
  {
   "cell_type": "code",
   "execution_count": 9,
   "id": "a09ee5ca",
   "metadata": {
    "execution": {
     "iopub.execute_input": "2023-10-31T05:00:39.180119Z",
     "iopub.status.busy": "2023-10-31T05:00:39.179907Z",
     "iopub.status.idle": "2023-10-31T05:00:39.186217Z",
     "shell.execute_reply": "2023-10-31T05:00:39.185550Z"
    },
    "papermill": {
     "duration": 0.012657,
     "end_time": "2023-10-31T05:00:39.187737",
     "exception": false,
     "start_time": "2023-10-31T05:00:39.175080",
     "status": "completed"
    },
    "tags": []
   },
   "outputs": [
    {
     "data": {
      "application/javascript": [
       "parent.postMessage({\"jupyterEvent\": \"custom.exercise_interaction\", \"data\": {\"outcomeType\": 4, \"interactionType\": 1, \"questionType\": 1, \"questionId\": \"4_MAE\", \"learnToolsVersion\": \"0.3.4\", \"valueTowardsCompletion\": 0.0, \"failureMessage\": \"\", \"exceptionClass\": \"\", \"trace\": \"\"}}, \"*\")"
      ],
      "text/plain": [
       "<IPython.core.display.Javascript object>"
      ]
     },
     "metadata": {},
     "output_type": "display_data"
    },
    {
     "data": {
      "text/markdown": [
       "<span style=\"color:#ccaa33\">Check:</span> When you've updated the starter code, `check()` will tell you whether your code is correct. You need to update the code that creates variable `val_mae`"
      ],
      "text/plain": [
       "Check: When you've updated the starter code, `check()` will tell you whether your code is correct. You need to update the code that creates variable `val_mae`"
      ]
     },
     "metadata": {},
     "output_type": "display_data"
    }
   ],
   "source": [
    "from sklearn.metrics import mean_absolute_error\n",
    "val_mae = ____\n",
    "\n",
    "# uncomment following line to see the validation_mae\n",
    "#print(val_mae)\n",
    "\n",
    "# Check your answer\n",
    "step_4.check()"
   ]
  },
  {
   "cell_type": "code",
   "execution_count": 10,
   "id": "fd9ad0f5",
   "metadata": {
    "execution": {
     "iopub.execute_input": "2023-10-31T05:00:39.197466Z",
     "iopub.status.busy": "2023-10-31T05:00:39.197245Z",
     "iopub.status.idle": "2023-10-31T05:00:39.200173Z",
     "shell.execute_reply": "2023-10-31T05:00:39.199515Z"
    },
    "papermill": {
     "duration": 0.009621,
     "end_time": "2023-10-31T05:00:39.201828",
     "exception": false,
     "start_time": "2023-10-31T05:00:39.192207",
     "status": "completed"
    },
    "tags": []
   },
   "outputs": [],
   "source": [
    "# step_4.hint()\n",
    "# step_4.solution()"
   ]
  },
  {
   "cell_type": "markdown",
   "id": "05bfe1c1",
   "metadata": {
    "papermill": {
     "duration": 0.004199,
     "end_time": "2023-10-31T05:00:39.210455",
     "exception": false,
     "start_time": "2023-10-31T05:00:39.206256",
     "status": "completed"
    },
    "tags": []
   },
   "source": [
    "Is that MAE good?  There isn't a general rule for what values are good that applies across applications. But you'll see how to use (and improve) this number in the next step.\n",
    "\n",
    "# Keep Going\n",
    "\n",
    "You are ready for **[Underfitting and Overfitting](https://www.kaggle.com/dansbecker/underfitting-and-overfitting).**\n"
   ]
  },
  {
   "cell_type": "markdown",
   "id": "c96d3f3e",
   "metadata": {
    "papermill": {
     "duration": 0.004194,
     "end_time": "2023-10-31T05:00:39.219011",
     "exception": false,
     "start_time": "2023-10-31T05:00:39.214817",
     "status": "completed"
    },
    "tags": []
   },
   "source": [
    "---\n",
    "\n",
    "\n",
    "\n",
    "\n",
    "*Have questions or comments? Visit the [course discussion forum](https://www.kaggle.com/learn/intro-to-machine-learning/discussion) to chat with other learners.*"
   ]
  }
 ],
 "metadata": {
  "kernelspec": {
   "display_name": "Python 3",
   "language": "python",
   "name": "python3"
  },
  "language_info": {
   "codemirror_mode": {
    "name": "ipython",
    "version": 3
   },
   "file_extension": ".py",
   "mimetype": "text/x-python",
   "name": "python",
   "nbconvert_exporter": "python",
   "pygments_lexer": "ipython3",
   "version": "3.10.12"
  },
  "papermill": {
   "default_parameters": {},
   "duration": 5.566672,
   "end_time": "2023-10-31T05:00:39.640096",
   "environment_variables": {},
   "exception": null,
   "input_path": "__notebook__.ipynb",
   "output_path": "__notebook__.ipynb",
   "parameters": {},
   "start_time": "2023-10-31T05:00:34.073424",
   "version": "2.4.0"
  }
 },
 "nbformat": 4,
 "nbformat_minor": 5
}
