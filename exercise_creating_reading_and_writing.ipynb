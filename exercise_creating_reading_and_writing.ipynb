{
  "metadata": {
    "kernelspec": {
      "display_name": "Python 3",
      "language": "python",
      "name": "python3"
    },
    "language_info": {
      "name": "python",
      "version": "3.10.12",
      "mimetype": "text/x-python",
      "codemirror_mode": {
        "name": "ipython",
        "version": 3
      },
      "pygments_lexer": "ipython3",
      "nbconvert_exporter": "python",
      "file_extension": ".py"
    },
    "kaggle": {
      "accelerator": "none",
      "dataSources": [
        {
          "sourceId": 1252,
          "sourceType": "datasetVersion",
          "datasetId": 655
        },
        {
          "sourceId": 3919,
          "sourceType": "datasetVersion",
          "datasetId": 2321
        },
        {
          "sourceId": 4877,
          "sourceType": "datasetVersion",
          "datasetId": 2894
        },
        {
          "sourceId": 5624,
          "sourceType": "datasetVersion",
          "datasetId": 3491
        },
        {
          "sourceId": 8172,
          "sourceType": "datasetVersion",
          "datasetId": 1442
        },
        {
          "sourceId": 13206,
          "sourceType": "datasetVersion",
          "datasetId": 9366
        },
        {
          "sourceId": 403916,
          "sourceType": "datasetVersion",
          "datasetId": 179555
        },
        {
          "sourceId": 466349,
          "sourceType": "datasetVersion",
          "datasetId": 4549
        },
        {
          "sourceId": 1151655,
          "sourceType": "datasetVersion",
          "datasetId": 2478
        },
        {
          "sourceId": 5438389,
          "sourceType": "datasetVersion",
          "datasetId": 10128
        }
      ],
      "isInternetEnabled": false,
      "language": "python",
      "sourceType": "notebook",
      "isGpuEnabled": false
    },
    "colab": {
      "provenance": [],
      "include_colab_link": true
    }
  },
  "nbformat_minor": 0,
  "nbformat": 4,
  "cells": [
    {
      "cell_type": "markdown",
      "metadata": {
        "id": "view-in-github",
        "colab_type": "text"
      },
      "source": [
        "<a href=\"https://colab.research.google.com/github/Xavier-ML/Data-Science/blob/master/exercise_creating_reading_and_writing.ipynb\" target=\"_parent\"><img src=\"https://colab.research.google.com/assets/colab-badge.svg\" alt=\"Open In Colab\"/></a>"
      ]
    },
    {
      "cell_type": "markdown",
      "source": [
        "**This notebook is an exercise in the [Pandas](https://www.kaggle.com/learn/pandas) course.  You can reference the tutorial at [this link](https://www.kaggle.com/residentmario/creating-reading-and-writing).**\n",
        "\n",
        "---\n"
      ],
      "metadata": {
        "id": "RgI1vpaBXiTd"
      }
    },
    {
      "cell_type": "markdown",
      "source": [
        "# Introduction\n",
        "\n",
        "The first step in most data analytics projects is reading the data file. In this exercise, you'll create Series and DataFrame objects, both by hand and by reading data files.\n",
        "\n",
        "Run the code cell below to load libraries you will need (including code to check your answers)."
      ],
      "metadata": {
        "id": "WYGeLPNqXiTh"
      }
    },
    {
      "cell_type": "code",
      "source": [
        "import pandas as pd\n",
        "pd.set_option('display.max_rows', 5)\n",
        "from learntools.core import binder; binder.bind(globals())\n",
        "from learntools.pandas.creating_reading_and_writing import *\n",
        "print(\"Setup complete.\")"
      ],
      "metadata": {
        "execution": {
          "iopub.status.busy": "2023-11-20T14:01:27.625399Z",
          "iopub.execute_input": "2023-11-20T14:01:27.625858Z",
          "iopub.status.idle": "2023-11-20T14:01:29.704459Z",
          "shell.execute_reply.started": "2023-11-20T14:01:27.625808Z",
          "shell.execute_reply": "2023-11-20T14:01:29.703347Z"
        },
        "trusted": true,
        "id": "EFBomayWXiTi",
        "outputId": "addcf26d-ffdb-4fcf-8b29-d575c134fd88"
      },
      "execution_count": null,
      "outputs": [
        {
          "name": "stdout",
          "text": "Setup complete.\n",
          "output_type": "stream"
        }
      ]
    },
    {
      "cell_type": "markdown",
      "source": [
        "# Exercises"
      ],
      "metadata": {
        "id": "jL7bNS0rXiTj"
      }
    },
    {
      "cell_type": "markdown",
      "source": [
        "## 1.\n",
        "\n",
        "In the cell below, create a DataFrame `fruits` that looks like this:\n",
        "\n",
        "![](https://storage.googleapis.com/kaggle-media/learn/images/Ax3pp2A.png)"
      ],
      "metadata": {
        "id": "ZTl88N7jXiTk"
      }
    },
    {
      "cell_type": "code",
      "source": [
        "# Your code goes here. Create a dataframe matching the above diagram and assign it to the variable fruits.\n",
        "fruits = pd.DataFrame({'Apples': [30], 'Bananas': [21]})\n",
        "\n",
        "# Check your answer\n",
        "q1.check()\n",
        "fruits"
      ],
      "metadata": {
        "execution": {
          "iopub.status.busy": "2023-11-20T14:10:12.702162Z",
          "iopub.execute_input": "2023-11-20T14:10:12.702674Z",
          "iopub.status.idle": "2023-11-20T14:10:12.724721Z",
          "shell.execute_reply.started": "2023-11-20T14:10:12.702637Z",
          "shell.execute_reply": "2023-11-20T14:10:12.723221Z"
        },
        "trusted": true,
        "id": "WUCir42EXiTk",
        "outputId": "0bf8d1bc-5ee1-43d4-9734-d82665c07186"
      },
      "execution_count": null,
      "outputs": [
        {
          "output_type": "display_data",
          "data": {
            "text/plain": "<IPython.core.display.Javascript object>",
            "application/javascript": "parent.postMessage({\"jupyterEvent\": \"custom.exercise_interaction\", \"data\": {\"outcomeType\": 1, \"valueTowardsCompletion\": 0.16666666666666666, \"interactionType\": 1, \"questionType\": 1, \"questionId\": \"1_FruitDfCreation\", \"learnToolsVersion\": \"0.3.4\", \"failureMessage\": \"\", \"exceptionClass\": \"\", \"trace\": \"\"}}, \"*\")"
          },
          "metadata": {}
        },
        {
          "output_type": "display_data",
          "data": {
            "text/plain": "Correct",
            "text/markdown": "<span style=\"color:#33cc33\">Correct</span>"
          },
          "metadata": {}
        },
        {
          "execution_count": 4,
          "output_type": "execute_result",
          "data": {
            "text/plain": "   Apples  Bananas\n0      30       21",
            "text/html": "<div>\n<style scoped>\n    .dataframe tbody tr th:only-of-type {\n        vertical-align: middle;\n    }\n\n    .dataframe tbody tr th {\n        vertical-align: top;\n    }\n\n    .dataframe thead th {\n        text-align: right;\n    }\n</style>\n<table border=\"1\" class=\"dataframe\">\n  <thead>\n    <tr style=\"text-align: right;\">\n      <th></th>\n      <th>Apples</th>\n      <th>Bananas</th>\n    </tr>\n  </thead>\n  <tbody>\n    <tr>\n      <th>0</th>\n      <td>30</td>\n      <td>21</td>\n    </tr>\n  </tbody>\n</table>\n</div>"
          },
          "metadata": {}
        }
      ]
    },
    {
      "cell_type": "code",
      "source": [
        "#q1.hint()\n",
        "#q1.solution()"
      ],
      "metadata": {
        "execution": {
          "iopub.status.busy": "2023-11-20T14:10:14.736021Z",
          "iopub.execute_input": "2023-11-20T14:10:14.736698Z",
          "iopub.status.idle": "2023-11-20T14:10:14.742352Z",
          "shell.execute_reply.started": "2023-11-20T14:10:14.736642Z",
          "shell.execute_reply": "2023-11-20T14:10:14.740990Z"
        },
        "trusted": true,
        "id": "RlugHbX6XiTk"
      },
      "execution_count": null,
      "outputs": []
    },
    {
      "cell_type": "markdown",
      "source": [
        "## 2.\n",
        "\n",
        "Create a dataframe `fruit_sales` that matches the diagram below:\n",
        "\n",
        "![](https://storage.googleapis.com/kaggle-media/learn/images/CHPn7ZF.png)"
      ],
      "metadata": {
        "id": "aqmJGH_RXiTl"
      }
    },
    {
      "cell_type": "code",
      "source": [
        "# Your code goes here. Create a dataframe matching the above diagram and assign it to the variable fruit_sales.\n",
        "fruit_sales = pd.DataFrame({'Apples': [35, 41], 'Bananas': [21, 34]}, index = ['2017 Sales','2018 Sales'])\n",
        "\n",
        "# Check your answer\n",
        "q2.check()\n",
        "fruit_sales"
      ],
      "metadata": {
        "execution": {
          "iopub.status.busy": "2023-11-20T14:12:23.136607Z",
          "iopub.execute_input": "2023-11-20T14:12:23.137031Z",
          "iopub.status.idle": "2023-11-20T14:12:23.164683Z",
          "shell.execute_reply.started": "2023-11-20T14:12:23.136996Z",
          "shell.execute_reply": "2023-11-20T14:12:23.163236Z"
        },
        "trusted": true,
        "id": "GUU0KnLRXiTl",
        "outputId": "6a299804-ddbe-49dc-a66d-bb897e5d14d0"
      },
      "execution_count": null,
      "outputs": [
        {
          "output_type": "display_data",
          "data": {
            "text/plain": "<IPython.core.display.Javascript object>",
            "application/javascript": "parent.postMessage({\"jupyterEvent\": \"custom.exercise_interaction\", \"data\": {\"outcomeType\": 1, \"valueTowardsCompletion\": 0.16666666666666666, \"interactionType\": 1, \"questionType\": 1, \"questionId\": \"2_FruitSalesDfCreation\", \"learnToolsVersion\": \"0.3.4\", \"failureMessage\": \"\", \"exceptionClass\": \"\", \"trace\": \"\"}}, \"*\")"
          },
          "metadata": {}
        },
        {
          "output_type": "display_data",
          "data": {
            "text/plain": "Correct",
            "text/markdown": "<span style=\"color:#33cc33\">Correct</span>"
          },
          "metadata": {}
        },
        {
          "execution_count": 7,
          "output_type": "execute_result",
          "data": {
            "text/plain": "            Apples  Bananas\n2017 Sales      35       21\n2018 Sales      41       34",
            "text/html": "<div>\n<style scoped>\n    .dataframe tbody tr th:only-of-type {\n        vertical-align: middle;\n    }\n\n    .dataframe tbody tr th {\n        vertical-align: top;\n    }\n\n    .dataframe thead th {\n        text-align: right;\n    }\n</style>\n<table border=\"1\" class=\"dataframe\">\n  <thead>\n    <tr style=\"text-align: right;\">\n      <th></th>\n      <th>Apples</th>\n      <th>Bananas</th>\n    </tr>\n  </thead>\n  <tbody>\n    <tr>\n      <th>2017 Sales</th>\n      <td>35</td>\n      <td>21</td>\n    </tr>\n    <tr>\n      <th>2018 Sales</th>\n      <td>41</td>\n      <td>34</td>\n    </tr>\n  </tbody>\n</table>\n</div>"
          },
          "metadata": {}
        }
      ]
    },
    {
      "cell_type": "code",
      "source": [
        "#q2.hint()\n",
        "#q2.solution()"
      ],
      "metadata": {
        "execution": {
          "iopub.status.busy": "2023-11-20T14:12:29.454062Z",
          "iopub.execute_input": "2023-11-20T14:12:29.454466Z",
          "iopub.status.idle": "2023-11-20T14:12:29.459736Z",
          "shell.execute_reply.started": "2023-11-20T14:12:29.454433Z",
          "shell.execute_reply": "2023-11-20T14:12:29.458251Z"
        },
        "trusted": true,
        "id": "84i9pIj7XiTm"
      },
      "execution_count": null,
      "outputs": []
    },
    {
      "cell_type": "markdown",
      "source": [
        "## 3.\n",
        "\n",
        "Create a variable `ingredients` with a Series that looks like:\n",
        "\n",
        "```\n",
        "Flour     4 cups\n",
        "Milk       1 cup\n",
        "Eggs     2 large\n",
        "Spam       1 can\n",
        "Name: Dinner, dtype: object\n",
        "```"
      ],
      "metadata": {
        "id": "aZr6UtCsXiTm"
      }
    },
    {
      "cell_type": "code",
      "source": [
        "ingredients = pd.Series(['4 cups', '1 cup', '2 large', '1 can'], index=['Flour', 'Milk', 'Eggs', 'Spam'], name='Dinner')\n",
        "\n",
        "# Check your answer\n",
        "q3.check()\n",
        "ingredients"
      ],
      "metadata": {
        "execution": {
          "iopub.status.busy": "2023-11-20T14:56:25.207487Z",
          "iopub.execute_input": "2023-11-20T14:56:25.207911Z",
          "iopub.status.idle": "2023-11-20T14:56:25.224026Z",
          "shell.execute_reply.started": "2023-11-20T14:56:25.207878Z",
          "shell.execute_reply": "2023-11-20T14:56:25.222558Z"
        },
        "trusted": true,
        "id": "BWyVZlrZXiTm",
        "outputId": "ac3a6e7d-a587-4280-8f35-5ca26b246e5c"
      },
      "execution_count": null,
      "outputs": [
        {
          "output_type": "display_data",
          "data": {
            "text/plain": "<IPython.core.display.Javascript object>",
            "application/javascript": "parent.postMessage({\"jupyterEvent\": \"custom.exercise_interaction\", \"data\": {\"outcomeType\": 1, \"valueTowardsCompletion\": 0.16666666666666666, \"interactionType\": 1, \"questionType\": 2, \"questionId\": \"3_RecipeSeriesCreation\", \"learnToolsVersion\": \"0.3.4\", \"failureMessage\": \"\", \"exceptionClass\": \"\", \"trace\": \"\"}}, \"*\")"
          },
          "metadata": {}
        },
        {
          "output_type": "display_data",
          "data": {
            "text/plain": "Correct",
            "text/markdown": "<span style=\"color:#33cc33\">Correct</span>"
          },
          "metadata": {}
        },
        {
          "execution_count": 10,
          "output_type": "execute_result",
          "data": {
            "text/plain": "Flour     4 cups\nMilk       1 cup\nEggs     2 large\nSpam       1 can\nName: Dinner, dtype: object"
          },
          "metadata": {}
        }
      ]
    },
    {
      "cell_type": "code",
      "source": [
        "q3.hint()\n",
        "q3.solution()"
      ],
      "metadata": {
        "execution": {
          "iopub.status.busy": "2023-11-20T15:00:57.030724Z",
          "iopub.execute_input": "2023-11-20T15:00:57.031218Z",
          "iopub.status.idle": "2023-11-20T15:00:57.046681Z",
          "shell.execute_reply.started": "2023-11-20T15:00:57.031182Z",
          "shell.execute_reply": "2023-11-20T15:00:57.045251Z"
        },
        "trusted": true,
        "id": "7LdWb0ZlXiTn",
        "outputId": "9445131d-2f58-4053-925e-d574632ceaae"
      },
      "execution_count": null,
      "outputs": [
        {
          "output_type": "display_data",
          "data": {
            "text/plain": "<IPython.core.display.Javascript object>",
            "application/javascript": "parent.postMessage({\"jupyterEvent\": \"custom.exercise_interaction\", \"data\": {\"interactionType\": 2, \"questionType\": 2, \"questionId\": \"3_RecipeSeriesCreation\", \"learnToolsVersion\": \"0.3.4\", \"valueTowardsCompletion\": 0.0, \"failureMessage\": \"\", \"exceptionClass\": \"\", \"trace\": \"\", \"outcomeType\": 4}}, \"*\")"
          },
          "metadata": {}
        },
        {
          "output_type": "display_data",
          "data": {
            "text/plain": "Hint: Note that the Series must be named `\"Dinner\"`. Use the `name` keyword-arg when creating your series.",
            "text/markdown": "<span style=\"color:#3366cc\">Hint:</span> Note that the Series must be named `\"Dinner\"`. Use the `name` keyword-arg when creating your series."
          },
          "metadata": {}
        },
        {
          "output_type": "display_data",
          "data": {
            "text/plain": "<IPython.core.display.Javascript object>",
            "application/javascript": "parent.postMessage({\"jupyterEvent\": \"custom.exercise_interaction\", \"data\": {\"interactionType\": 3, \"questionType\": 2, \"questionId\": \"3_RecipeSeriesCreation\", \"learnToolsVersion\": \"0.3.4\", \"valueTowardsCompletion\": 0.0, \"failureMessage\": \"\", \"exceptionClass\": \"\", \"trace\": \"\", \"outcomeType\": 4}}, \"*\")"
          },
          "metadata": {}
        },
        {
          "output_type": "display_data",
          "data": {
            "text/plain": "Solution: \n```python\nquantities = ['4 cups', '1 cup', '2 large', '1 can']\nitems = ['Flour', 'Milk', 'Eggs', 'Spam']\nrecipe = pd.Series(quantities, index=items, name='Dinner')\n```",
            "text/markdown": "<span style=\"color:#33cc99\">Solution:</span> \n```python\nquantities = ['4 cups', '1 cup', '2 large', '1 can']\nitems = ['Flour', 'Milk', 'Eggs', 'Spam']\nrecipe = pd.Series(quantities, index=items, name='Dinner')\n```"
          },
          "metadata": {}
        }
      ]
    },
    {
      "cell_type": "markdown",
      "source": [
        "## 4.\n",
        "\n",
        "Read the following csv dataset of wine reviews into a DataFrame called `reviews`:\n",
        "\n",
        "![](https://storage.googleapis.com/kaggle-media/learn/images/74RCZtU.png)\n",
        "\n",
        "The filepath to the csv file is `../input/wine-reviews/winemag-data_first150k.csv`. The first few lines look like:\n",
        "\n",
        "```\n",
        ",country,description,designation,points,price,province,region_1,region_2,variety,winery\n",
        "0,US,\"This tremendous 100% varietal wine[...]\",Martha's Vineyard,96,235.0,California,Napa Valley,Napa,Cabernet Sauvignon,Heitz\n",
        "1,Spain,\"Ripe aromas of fig, blackberry and[...]\",Carodorum Selección Especial Reserva,96,110.0,Northern Spain,Toro,,Tinta de Toro,Bodega Carmen Rodríguez\n",
        "```"
      ],
      "metadata": {
        "id": "jw-9miGGXiTn"
      }
    },
    {
      "cell_type": "code",
      "source": [
        "reviews = pd.read_csv(\"../input/wine-reviews/winemag-data_first150k.csv\",index_col=0)\n",
        "\n",
        "# Check your answer\n",
        "q4.check()\n",
        "reviews"
      ],
      "metadata": {
        "execution": {
          "iopub.status.busy": "2023-11-20T15:09:03.326261Z",
          "iopub.execute_input": "2023-11-20T15:09:03.326654Z",
          "iopub.status.idle": "2023-11-20T15:09:04.353413Z",
          "shell.execute_reply.started": "2023-11-20T15:09:03.326626Z",
          "shell.execute_reply": "2023-11-20T15:09:04.352264Z"
        },
        "trusted": true,
        "id": "mIfwW_OEXiTn",
        "outputId": "d4172d5c-fd46-4e2b-b470-a623accd653d"
      },
      "execution_count": null,
      "outputs": [
        {
          "output_type": "display_data",
          "data": {
            "text/plain": "<IPython.core.display.Javascript object>",
            "application/javascript": "parent.postMessage({\"jupyterEvent\": \"custom.exercise_interaction\", \"data\": {\"outcomeType\": 1, \"valueTowardsCompletion\": 0.16666666666666666, \"interactionType\": 1, \"questionType\": 1, \"questionId\": \"4_ReadWineCsv\", \"learnToolsVersion\": \"0.3.4\", \"failureMessage\": \"\", \"exceptionClass\": \"\", \"trace\": \"\"}}, \"*\")"
          },
          "metadata": {}
        },
        {
          "output_type": "display_data",
          "data": {
            "text/plain": "Correct",
            "text/markdown": "<span style=\"color:#33cc33\">Correct</span>"
          },
          "metadata": {}
        },
        {
          "execution_count": 13,
          "output_type": "execute_result",
          "data": {
            "text/plain": "       country                                        description  \\\n0           US  This tremendous 100% varietal wine hails from ...   \n1        Spain  Ripe aromas of fig, blackberry and cassis are ...   \n...        ...                                                ...   \n150928  France  A perfect salmon shade, with scents of peaches...   \n150929   Italy  More Pinot Grigios should taste like this. A r...   \n\n                                 designation  points  price  \\\n0                          Martha's Vineyard      96  235.0   \n1       Carodorum Selección Especial Reserva      96  110.0   \n...                                      ...     ...    ...   \n150928                       Grand Brut Rosé      90   52.0   \n150929                                   NaN      90   15.0   \n\n                  province     region_1 region_2             variety  \\\n0               California  Napa Valley     Napa  Cabernet Sauvignon   \n1           Northern Spain         Toro      NaN       Tinta de Toro   \n...                    ...          ...      ...                 ...   \n150928           Champagne    Champagne      NaN     Champagne Blend   \n150929  Northeastern Italy   Alto Adige      NaN        Pinot Grigio   \n\n                         winery  \n0                         Heitz  \n1       Bodega Carmen Rodríguez  \n...                         ...  \n150928                   Gosset  \n150929            Alois Lageder  \n\n[150930 rows x 10 columns]",
            "text/html": "<div>\n<style scoped>\n    .dataframe tbody tr th:only-of-type {\n        vertical-align: middle;\n    }\n\n    .dataframe tbody tr th {\n        vertical-align: top;\n    }\n\n    .dataframe thead th {\n        text-align: right;\n    }\n</style>\n<table border=\"1\" class=\"dataframe\">\n  <thead>\n    <tr style=\"text-align: right;\">\n      <th></th>\n      <th>country</th>\n      <th>description</th>\n      <th>designation</th>\n      <th>points</th>\n      <th>price</th>\n      <th>province</th>\n      <th>region_1</th>\n      <th>region_2</th>\n      <th>variety</th>\n      <th>winery</th>\n    </tr>\n  </thead>\n  <tbody>\n    <tr>\n      <th>0</th>\n      <td>US</td>\n      <td>This tremendous 100% varietal wine hails from ...</td>\n      <td>Martha's Vineyard</td>\n      <td>96</td>\n      <td>235.0</td>\n      <td>California</td>\n      <td>Napa Valley</td>\n      <td>Napa</td>\n      <td>Cabernet Sauvignon</td>\n      <td>Heitz</td>\n    </tr>\n    <tr>\n      <th>1</th>\n      <td>Spain</td>\n      <td>Ripe aromas of fig, blackberry and cassis are ...</td>\n      <td>Carodorum Selección Especial Reserva</td>\n      <td>96</td>\n      <td>110.0</td>\n      <td>Northern Spain</td>\n      <td>Toro</td>\n      <td>NaN</td>\n      <td>Tinta de Toro</td>\n      <td>Bodega Carmen Rodríguez</td>\n    </tr>\n    <tr>\n      <th>...</th>\n      <td>...</td>\n      <td>...</td>\n      <td>...</td>\n      <td>...</td>\n      <td>...</td>\n      <td>...</td>\n      <td>...</td>\n      <td>...</td>\n      <td>...</td>\n      <td>...</td>\n    </tr>\n    <tr>\n      <th>150928</th>\n      <td>France</td>\n      <td>A perfect salmon shade, with scents of peaches...</td>\n      <td>Grand Brut Rosé</td>\n      <td>90</td>\n      <td>52.0</td>\n      <td>Champagne</td>\n      <td>Champagne</td>\n      <td>NaN</td>\n      <td>Champagne Blend</td>\n      <td>Gosset</td>\n    </tr>\n    <tr>\n      <th>150929</th>\n      <td>Italy</td>\n      <td>More Pinot Grigios should taste like this. A r...</td>\n      <td>NaN</td>\n      <td>90</td>\n      <td>15.0</td>\n      <td>Northeastern Italy</td>\n      <td>Alto Adige</td>\n      <td>NaN</td>\n      <td>Pinot Grigio</td>\n      <td>Alois Lageder</td>\n    </tr>\n  </tbody>\n</table>\n<p>150930 rows × 10 columns</p>\n</div>"
          },
          "metadata": {}
        }
      ]
    },
    {
      "cell_type": "code",
      "source": [
        "q4.hint()\n",
        "q4.solution()"
      ],
      "metadata": {
        "execution": {
          "iopub.status.busy": "2023-11-20T15:10:54.057343Z",
          "iopub.execute_input": "2023-11-20T15:10:54.057785Z",
          "iopub.status.idle": "2023-11-20T15:10:54.075140Z",
          "shell.execute_reply.started": "2023-11-20T15:10:54.057753Z",
          "shell.execute_reply": "2023-11-20T15:10:54.073498Z"
        },
        "trusted": true,
        "id": "paWUA6kRXiTo",
        "outputId": "5166740e-d7d1-44d6-d394-792191124c2a"
      },
      "execution_count": null,
      "outputs": [
        {
          "output_type": "display_data",
          "data": {
            "text/plain": "<IPython.core.display.Javascript object>",
            "application/javascript": "parent.postMessage({\"jupyterEvent\": \"custom.exercise_interaction\", \"data\": {\"interactionType\": 2, \"questionType\": 1, \"questionId\": \"4_ReadWineCsv\", \"learnToolsVersion\": \"0.3.4\", \"valueTowardsCompletion\": 0.0, \"failureMessage\": \"\", \"exceptionClass\": \"\", \"trace\": \"\", \"outcomeType\": 4}}, \"*\")"
          },
          "metadata": {}
        },
        {
          "output_type": "display_data",
          "data": {
            "text/plain": "Hint: Note that the csv file begins with an unnamed column of increasing integers. We want this to be used as the index. Check out the description of the `index_col` keyword argument in [the docs for `read_csv`](https://pandas.pydata.org/pandas-docs/stable/generated/pandas.read_csv.html).",
            "text/markdown": "<span style=\"color:#3366cc\">Hint:</span> Note that the csv file begins with an unnamed column of increasing integers. We want this to be used as the index. Check out the description of the `index_col` keyword argument in [the docs for `read_csv`](https://pandas.pydata.org/pandas-docs/stable/generated/pandas.read_csv.html)."
          },
          "metadata": {}
        },
        {
          "output_type": "display_data",
          "data": {
            "text/plain": "<IPython.core.display.Javascript object>",
            "application/javascript": "parent.postMessage({\"jupyterEvent\": \"custom.exercise_interaction\", \"data\": {\"interactionType\": 3, \"questionType\": 1, \"questionId\": \"4_ReadWineCsv\", \"learnToolsVersion\": \"0.3.4\", \"valueTowardsCompletion\": 0.0, \"failureMessage\": \"\", \"exceptionClass\": \"\", \"trace\": \"\", \"outcomeType\": 4}}, \"*\")"
          },
          "metadata": {}
        },
        {
          "output_type": "display_data",
          "data": {
            "text/plain": "Solution: \n```python\nreviews = pd.read_csv('../input/wine-reviews/winemag-data_first150k.csv', index_col=0)\n```",
            "text/markdown": "<span style=\"color:#33cc99\">Solution:</span> \n```python\nreviews = pd.read_csv('../input/wine-reviews/winemag-data_first150k.csv', index_col=0)\n```"
          },
          "metadata": {}
        }
      ]
    },
    {
      "cell_type": "markdown",
      "source": [
        "## 5.\n",
        "\n",
        "Run the cell below to create and display a DataFrame called `animals`:"
      ],
      "metadata": {
        "id": "vTkuY9-4XiTo"
      }
    },
    {
      "cell_type": "code",
      "source": [
        "animals = pd.DataFrame({'Cows': [12, 20], 'Goats': [22, 19]}, index=['Year 1', 'Year 2'])\n",
        "animals"
      ],
      "metadata": {
        "execution": {
          "iopub.status.busy": "2023-11-20T15:14:20.825443Z",
          "iopub.execute_input": "2023-11-20T15:14:20.825862Z",
          "iopub.status.idle": "2023-11-20T15:14:20.838066Z",
          "shell.execute_reply.started": "2023-11-20T15:14:20.825831Z",
          "shell.execute_reply": "2023-11-20T15:14:20.836934Z"
        },
        "trusted": true,
        "id": "zztZv3MTXiTo",
        "outputId": "37c3248f-1f6f-4523-d53e-19b1c0189217"
      },
      "execution_count": null,
      "outputs": [
        {
          "execution_count": 16,
          "output_type": "execute_result",
          "data": {
            "text/plain": "        Cows  Goats\nYear 1    12     22\nYear 2    20     19",
            "text/html": "<div>\n<style scoped>\n    .dataframe tbody tr th:only-of-type {\n        vertical-align: middle;\n    }\n\n    .dataframe tbody tr th {\n        vertical-align: top;\n    }\n\n    .dataframe thead th {\n        text-align: right;\n    }\n</style>\n<table border=\"1\" class=\"dataframe\">\n  <thead>\n    <tr style=\"text-align: right;\">\n      <th></th>\n      <th>Cows</th>\n      <th>Goats</th>\n    </tr>\n  </thead>\n  <tbody>\n    <tr>\n      <th>Year 1</th>\n      <td>12</td>\n      <td>22</td>\n    </tr>\n    <tr>\n      <th>Year 2</th>\n      <td>20</td>\n      <td>19</td>\n    </tr>\n  </tbody>\n</table>\n</div>"
          },
          "metadata": {}
        }
      ]
    },
    {
      "cell_type": "markdown",
      "source": [
        "In the cell below, write code to save this DataFrame to disk as a csv file with the name `cows_and_goats.csv`."
      ],
      "metadata": {
        "id": "fD-BVKFRXiTo"
      }
    },
    {
      "cell_type": "code",
      "source": [
        "# Your code goes here\n",
        "animals.to_csv('cows_and_goats.csv')\n",
        "# Check your answer\n",
        "q5.check()"
      ],
      "metadata": {
        "execution": {
          "iopub.status.busy": "2023-11-20T15:28:54.912203Z",
          "iopub.execute_input": "2023-11-20T15:28:54.912646Z",
          "iopub.status.idle": "2023-11-20T15:28:54.931340Z",
          "shell.execute_reply.started": "2023-11-20T15:28:54.912616Z",
          "shell.execute_reply": "2023-11-20T15:28:54.929900Z"
        },
        "trusted": true,
        "id": "So7RNXXPXiTo",
        "outputId": "38469882-fac2-49fe-9679-937b0ba9c99c"
      },
      "execution_count": null,
      "outputs": [
        {
          "output_type": "display_data",
          "data": {
            "text/plain": "<IPython.core.display.Javascript object>",
            "application/javascript": "parent.postMessage({\"jupyterEvent\": \"custom.exercise_interaction\", \"data\": {\"outcomeType\": 1, \"valueTowardsCompletion\": 0.16666666666666666, \"interactionType\": 1, \"questionType\": 2, \"questionId\": \"5_SaveAnimalsCsv\", \"learnToolsVersion\": \"0.3.4\", \"failureMessage\": \"\", \"exceptionClass\": \"\", \"trace\": \"\"}}, \"*\")"
          },
          "metadata": {}
        },
        {
          "output_type": "display_data",
          "data": {
            "text/plain": "Correct",
            "text/markdown": "<span style=\"color:#33cc33\">Correct</span>"
          },
          "metadata": {}
        }
      ]
    },
    {
      "cell_type": "code",
      "source": [
        "q5.hint()\n",
        "q5.solution()"
      ],
      "metadata": {
        "execution": {
          "iopub.status.busy": "2023-11-20T15:27:49.072611Z",
          "iopub.execute_input": "2023-11-20T15:27:49.073050Z",
          "iopub.status.idle": "2023-11-20T15:27:49.088632Z",
          "shell.execute_reply.started": "2023-11-20T15:27:49.073016Z",
          "shell.execute_reply": "2023-11-20T15:27:49.086794Z"
        },
        "trusted": true,
        "id": "VrKH40sUXiTp",
        "outputId": "d0cfc881-c123-4094-f066-0aebb47a35bc"
      },
      "execution_count": null,
      "outputs": [
        {
          "output_type": "display_data",
          "data": {
            "text/plain": "<IPython.core.display.Javascript object>",
            "application/javascript": "parent.postMessage({\"jupyterEvent\": \"custom.exercise_interaction\", \"data\": {\"interactionType\": 2, \"questionType\": 2, \"questionId\": \"5_SaveAnimalsCsv\", \"learnToolsVersion\": \"0.3.4\", \"valueTowardsCompletion\": 0.0, \"failureMessage\": \"\", \"exceptionClass\": \"\", \"trace\": \"\", \"outcomeType\": 4}}, \"*\")"
          },
          "metadata": {}
        },
        {
          "output_type": "display_data",
          "data": {
            "text/plain": "Hint: Use [`to_csv`](https://pandas.pydata.org/pandas-docs/stable/generated/pandas.DataFrame.to_csv.html) to save a DataFrame to a CSV file.",
            "text/markdown": "<span style=\"color:#3366cc\">Hint:</span> Use [`to_csv`](https://pandas.pydata.org/pandas-docs/stable/generated/pandas.DataFrame.to_csv.html) to save a DataFrame to a CSV file."
          },
          "metadata": {}
        },
        {
          "output_type": "display_data",
          "data": {
            "text/plain": "<IPython.core.display.Javascript object>",
            "application/javascript": "parent.postMessage({\"jupyterEvent\": \"custom.exercise_interaction\", \"data\": {\"interactionType\": 3, \"questionType\": 2, \"questionId\": \"5_SaveAnimalsCsv\", \"learnToolsVersion\": \"0.3.4\", \"valueTowardsCompletion\": 0.0, \"failureMessage\": \"\", \"exceptionClass\": \"\", \"trace\": \"\", \"outcomeType\": 4}}, \"*\")"
          },
          "metadata": {}
        },
        {
          "output_type": "display_data",
          "data": {
            "text/plain": "Solution: \n```python\nanimals.to_csv(\"cows_and_goats.csv\")\n```",
            "text/markdown": "<span style=\"color:#33cc99\">Solution:</span> \n```python\nanimals.to_csv(\"cows_and_goats.csv\")\n```"
          },
          "metadata": {}
        }
      ]
    },
    {
      "cell_type": "markdown",
      "source": [
        "# Keep going\n",
        "\n",
        "Move on to learn about **[indexing, selecting and assigning](https://www.kaggle.com/residentmario/indexing-selecting-assigning)**."
      ],
      "metadata": {
        "id": "pnQzQgMSXiTp"
      }
    },
    {
      "cell_type": "markdown",
      "source": [
        "---\n",
        "\n",
        "\n",
        "\n",
        "\n",
        "*Have questions or comments? Visit the [course discussion forum](https://www.kaggle.com/learn/pandas/discussion) to chat with other learners.*"
      ],
      "metadata": {
        "id": "xsaFXTPYXiTp"
      }
    }
  ]
}