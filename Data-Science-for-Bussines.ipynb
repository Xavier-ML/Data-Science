{
 "cells": [
  {
   "cell_type": "markdown",
   "id": "47e9ae1a",
   "metadata": {},
   "source": [
    "## Data Science for Bussines\n",
    "\n",
    "### Introducción a Data Science\n",
    "\n",
    "- Introducción a Data Science\n",
    "- Metodología de Data Science\n",
    "- Privacidad y Seguridad de Datos\n",
    "- Soft Skills: Colaboración efectiva\n",
    "\n",
    "### Base de Datos y Big Data\n",
    "\n",
    "- Bases de datos relacionales\n",
    "- Modelos de datos, modelo entidad – relación\n",
    "- SQL\n",
    "  DDL y DML\n",
    "- Introducción a Big Data\n",
    "- Soft Skills: Presentaciones con propósito\n",
    "\n",
    "### Herramientas de Data Science\n",
    "\n",
    "- Estadística descriptiva\n",
    "- Medidas de tendencia central\n",
    "- Medidas de dispersión\n",
    "- Visualizaciones: histogramas, gráficos de dispersión\n",
    "- Fundamentos de programación\n",
    "- Python básico y tipos de datos\n",
    "- Estructura de datos en Python\n",
    "- Introducción a R\n",
    "- Correlación y regresión\n",
    "- Análisis de datos con Python\n",
    "- Data wrangling\n",
    "- Análisis exploratorio de datos\n",
    "- Desarrollo y evaluación de modelos\n",
    "- Herramientas de Data Science en la nube\n",
    "- Soft Skills: Habilidades interpersonales\n",
    "\n",
    "### Visualización de Datos\n",
    "\n",
    "- Visualización de datos con Python\n",
    "- Herramientas básicas, y especializadas de\n",
    "- visualización con Python\n",
    "- Matplotlib y Seaborn\n",
    "- Mapas y datos geoespaciales\n",
    "- Dashboards con Cognos\n",
    "- Soft Skills: Entregando trabajo de calidad ágilmente\n",
    "\n",
    "### Machine Learning Aplicado a Data Science\n",
    "\n",
    "- Machine Learning con Python\n",
    "- Regresión y clasificación\n",
    "- Aprendizaje no supervisado\n",
    "- Sistemas de recomendación\n",
    "- Fundamentos de Deep Learning\n",
    "- Modelos de Deep Learning\n",
    "- Plataformas y librerías de software\n",
    "- Deep Learning con TensorFlow\n",
    "- Soft Skills: Resolución de problemas con pensamiento creativo"
   ]
  }
 ],
 "metadata": {
  "kernelspec": {
   "display_name": "Python 3",
   "language": "python",
   "name": "python3"
  },
  "language_info": {
   "codemirror_mode": {
    "name": "ipython",
    "version": 3
   },
   "file_extension": ".py",
   "mimetype": "text/x-python",
   "name": "python",
   "nbconvert_exporter": "python",
   "pygments_lexer": "ipython3",
   "version": "3.6.13"
  }
 },
 "nbformat": 4,
 "nbformat_minor": 5
}
